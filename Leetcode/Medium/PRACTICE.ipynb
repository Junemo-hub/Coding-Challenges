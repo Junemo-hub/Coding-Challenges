{
 "cells": [
  {
   "cell_type": "code",
   "execution_count": 15,
   "id": "fb5beb2f-373d-45a0-afc7-d7a3fc5c2bcb",
   "metadata": {},
   "outputs": [
    {
     "name": "stdout",
     "output_type": "stream",
     "text": [
      "left: 0, mid: 3, right: 6, nums[mid]: 7\n",
      "left: 4, mid: 5, right: 6, nums[mid]: 1\n",
      "left: 4, mid: 4, right: 4, nums[mid]: 0\n",
      "4\n"
     ]
    }
   ],
   "source": [
    "from typing import List\n",
    "\n",
    "nums = [4,5,6,7,0,1,2]\n",
    "target = 0\n",
    "\n",
    "class Solution:\n",
    "    def search(self, nums: List[int], target: int) -> int:\n",
    "        left, right = 0, len(nums) - 1\n",
    "        while left <= right:\n",
    "            mid = (left + right) // 2\n",
    "            print(f\"left: {left}, mid: {mid}, right: {right}, nums[mid]: {nums[mid]}\")  # 디버깅용 출력\n",
    "\n",
    "            if nums[mid] == target:\n",
    "                return mid\n",
    "\n",
    "            # 왼쪽 반이 정렬된 경우\n",
    "            if nums[left] <= nums[mid]:\n",
    "                if nums[left] <= target < nums[mid]:\n",
    "                    right = mid - 1\n",
    "                else:\n",
    "                    left = mid + 1\n",
    "            # 오른쪽 반이 정렬된 경우\n",
    "            else:\n",
    "                if nums[mid] < target <= nums[right]:\n",
    "                    left = mid + 1\n",
    "                else:\n",
    "                    right = mid - 1\n",
    "        return -1\n",
    "\n",
    "sol = Solution()\n",
    "result = sol.search(nums, target)\n",
    "print(result)  # 이걸 꼭 써야 결과 나옴"
   ]
  },
  {
   "cell_type": "code",
   "execution_count": null,
   "id": "eb0cfa59-46f7-4e6d-84f4-a1c41f6b7b9b",
   "metadata": {},
   "outputs": [],
   "source": []
  }
 ],
 "metadata": {
  "kernelspec": {
   "display_name": "Python 3 (ipykernel)",
   "language": "python",
   "name": "python3"
  },
  "language_info": {
   "codemirror_mode": {
    "name": "ipython",
    "version": 3
   },
   "file_extension": ".py",
   "mimetype": "text/x-python",
   "name": "python",
   "nbconvert_exporter": "python",
   "pygments_lexer": "ipython3",
   "version": "3.12.3"
  }
 },
 "nbformat": 4,
 "nbformat_minor": 5
}
