{
 "cells": [
  {
   "cell_type": "code",
   "execution_count": 13,
   "id": "fb5beb2f-373d-45a0-afc7-d7a3fc5c2bcb",
   "metadata": {},
   "outputs": [],
   "source": [
    "from typing import List\n",
    "\n",
    "nums = [5, 7, 7, 8, 8, 10]\n",
    "target = 8\n",
    "\n",
    "def searchRange(nums: List[int], target: int) -> List[int]:\n",
    "    left=0\n",
    "    right=len(nums)-1\n",
    "\n",
    "    while left <= right :\n",
    "        mid = (left+right) //2\n",
    "        if nums[mid] == target:\n",
    "            while nums[mid] == target :\n",
    "                left = mid - 1\n",
    "                right = mid + 1\n",
    "            return mid\n",
    "        elif nums[mid] < target:\n",
    "            left = mid+1\n",
    "        else :\n",
    "            right = mid -1\n",
    "    return left\n",
    "\n",
    "def findFirst(nums, target):\n",
    "    left, right =0, len(nums) -1\n",
    "    index = -1\n",
    "    while left <=right:\n",
    "        mid= (left+right) //2\n",
    "        print(f\"L={left} r={right} M={mid} V={nums[mid]}\")\n",
    "        if nums[mid] == target:\n",
    "            return mid\n",
    "        elif nums[mid] < target:\n",
    "            left = mid+1\n",
    "        else :\n",
    "            right = mid -1\n",
    "    return index\n"
   ]
  },
  {
   "cell_type": "code",
   "execution_count": null,
   "id": "eb0cfa59-46f7-4e6d-84f4-a1c41f6b7b9b",
   "metadata": {},
   "outputs": [],
   "source": []
  }
 ],
 "metadata": {
  "kernelspec": {
   "display_name": "Python 3 (ipykernel)",
   "language": "python",
   "name": "python3"
  },
  "language_info": {
   "codemirror_mode": {
    "name": "ipython",
    "version": 3
   },
   "file_extension": ".py",
   "mimetype": "text/x-python",
   "name": "python",
   "nbconvert_exporter": "python",
   "pygments_lexer": "ipython3",
   "version": "3.12.3"
  }
 },
 "nbformat": 4,
 "nbformat_minor": 5
}
